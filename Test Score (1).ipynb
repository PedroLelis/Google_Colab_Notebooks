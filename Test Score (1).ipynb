{
 "cells": [
  {
   "cell_type": "code",
   "execution_count": 1,
   "metadata": {},
   "outputs": [],
   "source": [
    "import torch"
   ]
  },
  {
   "cell_type": "code",
   "execution_count": 2,
   "metadata": {},
   "outputs": [
    {
     "name": "stdout",
     "output_type": "stream",
     "text": [
      "Requirement already satisfied: gdown==3.6.0 in /opt/conda/lib/python3.6/site-packages\n",
      "Requirement already satisfied: tqdm in /opt/conda/lib/python3.6/site-packages (from gdown==3.6.0)\n",
      "Requirement already satisfied: six in /opt/conda/lib/python3.6/site-packages (from gdown==3.6.0)\n",
      "Requirement already satisfied: requests in /opt/conda/lib/python3.6/site-packages (from gdown==3.6.0)\n",
      "Requirement already satisfied: chardet<3.1.0,>=3.0.2 in /opt/conda/lib/python3.6/site-packages (from requests->gdown==3.6.0)\n",
      "Requirement already satisfied: idna<2.7,>=2.5 in /opt/conda/lib/python3.6/site-packages (from requests->gdown==3.6.0)\n",
      "Requirement already satisfied: urllib3<1.23,>=1.21.1 in /opt/conda/lib/python3.6/site-packages (from requests->gdown==3.6.0)\n",
      "Requirement already satisfied: certifi>=2017.4.17 in /opt/conda/lib/python3.6/site-packages (from requests->gdown==3.6.0)\n",
      "\u001b[33mYou are using pip version 9.0.1, however version 18.1 is available.\n",
      "You should consider upgrading via the 'pip install --upgrade pip' command.\u001b[0m\n"
     ]
    }
   ],
   "source": [
    "!pip install gdown==3.6.0"
   ]
  },
  {
   "cell_type": "code",
   "execution_count": 3,
   "metadata": {},
   "outputs": [],
   "source": [
    "my_file_id = \"1aBjrK4kIYS_swJ8PF59bnYxoA7aoZ09k\""
   ]
  },
  {
   "cell_type": "code",
   "execution_count": 4,
   "metadata": {},
   "outputs": [],
   "source": [
    "import gdown"
   ]
  },
  {
   "cell_type": "code",
   "execution_count": 5,
   "metadata": {},
   "outputs": [
    {
     "name": "stdout",
     "output_type": "stream",
     "text": [
      "Downloading...\n",
      "From: https://drive.google.com/uc?id=1aBjrK4kIYS_swJ8PF59bnYxoA7aoZ09k\n",
      "To: /home/workspace/checkpoint.pt\n",
      "1.42GB [00:13, 106MB/s] \n"
     ]
    }
   ],
   "source": [
    "!gdown https://drive.google.com/uc?id={my_file_id} "
   ]
  },
  {
   "cell_type": "code",
   "execution_count": 6,
   "metadata": {},
   "outputs": [],
   "source": [
    "checkpoint_path = ('/home/workspace/checkpoint.pt')"
   ]
  },
  {
   "cell_type": "code",
   "execution_count": 7,
   "metadata": {
    "edited": true,
    "gradable": true,
    "grader_id": "vriua3cwbv"
   },
   "outputs": [],
   "source": [
    "# Load your model to this variable\n",
    "def load_checkpoint(checkpoint_path):\n",
    "\n",
    "    model = torch.load(checkpoint_path) \n",
    "   \n",
    "    return model "
   ]
  },
  {
   "cell_type": "code",
   "execution_count": null,
   "metadata": {},
   "outputs": [],
   "source": [
    "model = load_checkpoint(checkpoint_path) "
   ]
  }
 ],
 "metadata": {
  "cell_exec_timeout": 600,
  "kernelspec": {
   "display_name": "Python 3",
   "language": "python",
   "name": "python3"
  },
  "language_info": {
   "codemirror_mode": {
    "name": "ipython",
    "version": 3
   },
   "file_extension": ".py",
   "mimetype": "text/x-python",
   "name": "python",
   "nbconvert_exporter": "python",
   "pygments_lexer": "ipython3",
   "version": "3.6.3"
  },
  "showGradeBtn": true
 },
 "nbformat": 4,
 "nbformat_minor": 2
}
