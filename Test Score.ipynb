{
 "cells": [
  {
   "cell_type": "code",
   "execution_count": null,
   "metadata": {
    "edited": true,
    "gradable": true,
    "grader_id": "vriua3cwbv"
   },
   "outputs": [],
   "source": [
    "!pip install gdown==3.6.0\n",
    "\n",
    "import torch\n",
    "import gdown\n",
    "from torchvision import models\n",
    "from torch import nn\n",
    "from collections import OrderedDict\n",
    "\n",
    "my_file_id = \"1aBjrK4kIYS_swJ8PF59bnYxoA7aoZ09k\"\n",
    "!gdown https://drive.google.com/uc?id={my_file_id} \n",
    "checkpoint_path = '/home/workspace/checkpoint.pt'\n",
    "\n",
    "# Load your model to this variable\n",
    "def load_checkpoint(checkpoint_path):\n",
    "    \n",
    "    checkpoint = torch.load(checkpoint_path, map_location='cpu')\n",
    "        \n",
    "    model = models.vgg19(pretrained=True)\n",
    "    \n",
    "    for param in model.parameters():\n",
    "        param.requires_grad_(False)\n",
    "        \n",
    "    model.classifier = nn.Sequential(OrderedDict([\n",
    "                                    ('fc1', nn.Linear(25088, 4096)),\n",
    "                                    ('relu1', nn.ReLU()),\n",
    "                                    ('dropout1', nn.Dropout(p=0.6)),\n",
    "                                    ('fc2', nn.Linear(4096, 2048)),\n",
    "                                    ('relu2', nn.ReLU()),\n",
    "                                    ('dropout2', nn.Dropout(p=0.6)),\n",
    "                                    ('output', nn.LogSoftmax(dim=1))\n",
    "                                    ]))\n",
    "    \n",
    "    model.class_to_idx = checkpoint['class_to_idx']\n",
    "    model.load_state_dict(checkpoint['state_dict'])\n",
    "              \n",
    "    model.eval()\n",
    "    \n",
    "    return model \n",
    "\n",
    "model = load_checkpoint(checkpoint_path) \n",
    "    \n",
    "image_size = 224\n",
    "norm_mean = [0.485, 0.456, 0.406]\n",
    "norm_std = [0.229, 0.224, 0.225]           "
   ]
  }
 ],
 "metadata": {
  "cell_exec_timeout": 600,
  "kernelspec": {
   "display_name": "Python 3",
   "language": "python",
   "name": "python3"
  },
  "language_info": {
   "codemirror_mode": {
    "name": "ipython",
    "version": 3
   },
   "file_extension": ".py",
   "mimetype": "text/x-python",
   "name": "python",
   "nbconvert_exporter": "python",
   "pygments_lexer": "ipython3",
   "version": "3.6.3"
  },
  "showGradeBtn": true
 },
 "nbformat": 4,
 "nbformat_minor": 2
}
