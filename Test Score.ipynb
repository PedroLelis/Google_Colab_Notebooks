{
 "cells": [
  {
   "cell_type": "code",
   "execution_count": 10,
   "metadata": {},
   "outputs": [],
   "source": [
    "import torch\n",
    "from torchvision import models\n",
    "from torch import nn\n",
    "from collections import OrderedDict"
   ]
  },
  {
   "cell_type": "code",
   "execution_count": 11,
   "metadata": {},
   "outputs": [
    {
     "name": "stdout",
     "output_type": "stream",
     "text": [
      "Requirement already satisfied: gdown==3.6.0 in /opt/conda/lib/python3.6/site-packages\n",
      "Requirement already satisfied: tqdm in /opt/conda/lib/python3.6/site-packages (from gdown==3.6.0)\n",
      "Requirement already satisfied: requests in /opt/conda/lib/python3.6/site-packages (from gdown==3.6.0)\n",
      "Requirement already satisfied: six in /opt/conda/lib/python3.6/site-packages (from gdown==3.6.0)\n",
      "Requirement already satisfied: chardet<3.1.0,>=3.0.2 in /opt/conda/lib/python3.6/site-packages (from requests->gdown==3.6.0)\n",
      "Requirement already satisfied: idna<2.7,>=2.5 in /opt/conda/lib/python3.6/site-packages (from requests->gdown==3.6.0)\n",
      "Requirement already satisfied: urllib3<1.23,>=1.21.1 in /opt/conda/lib/python3.6/site-packages (from requests->gdown==3.6.0)\n",
      "Requirement already satisfied: certifi>=2017.4.17 in /opt/conda/lib/python3.6/site-packages (from requests->gdown==3.6.0)\n",
      "\u001b[33mYou are using pip version 9.0.1, however version 18.1 is available.\n",
      "You should consider upgrading via the 'pip install --upgrade pip' command.\u001b[0m\n"
     ]
    }
   ],
   "source": [
    "!pip install gdown==3.6.0"
   ]
  },
  {
   "cell_type": "code",
   "execution_count": 12,
   "metadata": {},
   "outputs": [],
   "source": [
    "my_file_id = \"1aBjrK4kIYS_swJ8PF59bnYxoA7aoZ09k\""
   ]
  },
  {
   "cell_type": "code",
   "execution_count": 13,
   "metadata": {},
   "outputs": [],
   "source": [
    "import gdown"
   ]
  },
  {
   "cell_type": "code",
   "execution_count": 14,
   "metadata": {},
   "outputs": [
    {
     "name": "stdout",
     "output_type": "stream",
     "text": [
      "Downloading...\n",
      "From: https://drive.google.com/uc?id=1aBjrK4kIYS_swJ8PF59bnYxoA7aoZ09k\n",
      "To: /home/workspace/checkpoint.pt\n",
      "1.42GB [00:12, 116MB/s] \n"
     ]
    }
   ],
   "source": [
    "!gdown https://drive.google.com/uc?id={my_file_id} "
   ]
  },
  {
   "cell_type": "code",
   "execution_count": null,
   "metadata": {},
   "outputs": [],
   "source": [
    "checkpoint_path = ('/home/workspace/checkpoint.pt')"
   ]
  },
  {
   "cell_type": "code",
   "execution_count": null,
   "metadata": {},
   "outputs": [],
   "source": [
    "image_size = 224\n",
    "norm_mean = [0.485, 0.456, 0.406]\n",
    "norm_std = [0.229, 0.224, 0.225]"
   ]
  },
  {
   "cell_type": "code",
   "execution_count": null,
   "metadata": {
    "edited": true,
    "gradable": true,
    "grader_id": "vriua3cwbv"
   },
   "outputs": [],
   "source": [
    "# Load your model to this variable\n",
    "def load_checkpoint(checkpoint_path):\n",
    "    \n",
    "    checkpoint = torch.load(checkpoint_path)\n",
    "    device = torch.device(\"cuda\" if torch.cuda.is_available() else \"cpu\")\n",
    "    \n",
    "    model = models.vgg19(pretrained=True)\n",
    "    \n",
    "    for param in model.parameters():\n",
    "        param.requires_grad_(False)\n",
    "        \n",
    "    model.classifier = nn.Sequential(OrderedDict([\n",
    "                                    ('fc1', nn.Linear(25088, 4096)),\n",
    "                                    ('relu1', nn.ReLU()),\n",
    "                                    ('dropout1', nn.Dropout(p=0.6)),\n",
    "                                    ('fc2', nn.Linear(4096, 2048)),\n",
    "                                    ('relu2', nn.ReLU()),\n",
    "                                    ('dropout2', nn.Dropout(p=0.6)),\n",
    "                                    ('output', nn.LogSoftmax(dim=1))\n",
    "                                    ]))\n",
    "    model.load_state_dict(checkpoint['state_dict'])\n",
    "    \n",
    "    model.to(device)\n",
    "    \n",
    "    return model "
   ]
  },
  {
   "cell_type": "code",
   "execution_count": null,
   "metadata": {},
   "outputs": [],
   "source": [
    "model = load_checkpoint(checkpoint_path) "
   ]
  }
 ],
 "metadata": {
  "cell_exec_timeout": 600,
  "kernelspec": {
   "display_name": "Python 3",
   "language": "python",
   "name": "python3"
  },
  "showGradeBtn": true
 },
 "nbformat": 4,
 "nbformat_minor": 2
}
