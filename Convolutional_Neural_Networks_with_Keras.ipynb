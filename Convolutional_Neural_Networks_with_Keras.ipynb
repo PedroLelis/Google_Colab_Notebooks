{
  "nbformat": 4,
  "nbformat_minor": 0,
  "metadata": {
    "colab": {
      "name": "Convolutional-Neural-Networks-with-Keras.ipynb",
      "version": "0.3.2",
      "provenance": [],
      "collapsed_sections": [],
      "include_colab_link": true
    },
    "kernelspec": {
      "name": "python3",
      "display_name": "Python 3"
    },
    "accelerator": "GPU"
  },
  "cells": [
    {
      "cell_type": "markdown",
      "metadata": {
        "id": "view-in-github",
        "colab_type": "text"
      },
      "source": [
        "<a href=\"https://colab.research.google.com/github/paulgureghian/Google_Colab_Notebooks/blob/master/Convolutional_Neural_Networks_with_Keras.ipynb\" target=\"_parent\"><img src=\"https://colab.research.google.com/assets/colab-badge.svg\" alt=\"Open In Colab\"/></a>"
      ]
    },
    {
      "metadata": {
        "id": "Zsa1vXyWlNvD",
        "colab_type": "text"
      },
      "cell_type": "markdown",
      "source": [
        "<a href=\"https://cognitiveclass.ai\"><img src = \"https://ibm.box.com/shared/static/9gegpsmnsoo25ikkbl4qzlvlyjbgxs5x.png\" width = 400> </a>\n",
        "\n",
        "<h1 align=center><font size = 5>Convolutional Neural Networks with Keras</font></h1>"
      ]
    },
    {
      "metadata": {
        "id": "WUFMiyRglNvD",
        "colab_type": "text"
      },
      "cell_type": "markdown",
      "source": [
        "In this lab, we will learn how to use the keras library to build convolutional neural networks. We will also use the popular MNIST dataset and we will compare our results to using a conventional neural network.\n"
      ]
    },
    {
      "metadata": {
        "id": "iRknh_felNvD",
        "colab_type": "text"
      },
      "cell_type": "markdown",
      "source": [
        "## Table of Contents\n",
        "\n",
        "<div class=\"alert alert-block alert-info\" style=\"margin-top: 20px\">\n",
        "\n",
        "<font size = 3>\n",
        "      \n",
        "1. <a href=\"#item2\">Import Keras and Packages</a>   \n",
        "2. <a href=\"#item3\">Convolutional Neural Network with One Convolutional and Pooling Layers</a>  \n",
        "3. <a href=\"#item4\">Convolutional Neural Network with Two Convolutional and Pooling Layers</a>  \n",
        "\n",
        "</font>\n",
        "</div>"
      ]
    },
    {
      "metadata": {
        "id": "Lq2rZRLClNvD",
        "colab_type": "text"
      },
      "cell_type": "markdown",
      "source": [
        "## Import Keras and Packages"
      ]
    },
    {
      "metadata": {
        "id": "qA95Af-2lNvD",
        "colab_type": "text"
      },
      "cell_type": "markdown",
      "source": [
        "Let's start by importing the keras libraries and the packages that we would need to build a neural network."
      ]
    },
    {
      "metadata": {
        "id": "eGvLOcsPlNvT",
        "colab_type": "code",
        "colab": {}
      },
      "cell_type": "code",
      "source": [
        "import keras\n",
        "from keras.models import Sequential\n",
        "from keras.layers import Dense\n",
        "from keras.utils import to_categorical"
      ],
      "execution_count": 0,
      "outputs": []
    },
    {
      "metadata": {
        "id": "Bupp0MWQlNvT",
        "colab_type": "text"
      },
      "cell_type": "markdown",
      "source": [
        "When working with convolutional neural networks in particular, we will need additional packages."
      ]
    },
    {
      "metadata": {
        "id": "bFO463j0lNvT",
        "colab_type": "code",
        "colab": {}
      },
      "cell_type": "code",
      "source": [
        "from keras.layers.convolutional import Conv2D # to add convolutional layers\n",
        "from keras.layers.convolutional import MaxPooling2D # to add pooling layers\n",
        "from keras.layers import Flatten # to flatten data for fully connected layers"
      ],
      "execution_count": 0,
      "outputs": []
    },
    {
      "metadata": {
        "id": "QHHW5NnclNvT",
        "colab_type": "text"
      },
      "cell_type": "markdown",
      "source": [
        "## Convolutional Layer with two sets of convolutional and pooling layers"
      ]
    },
    {
      "metadata": {
        "id": "QYbsix7GlNvT",
        "colab_type": "code",
        "colab": {}
      },
      "cell_type": "code",
      "source": [
        "# import data\n",
        "from keras.datasets import mnist\n",
        "\n",
        "# load data\n",
        "(X_train, y_train), (X_test, y_test) = mnist.load_data()\n",
        "\n",
        "# reshape to be [samples][pixels][width][height]\n",
        "X_train = X_train.reshape(X_train.shape[0], 28, 28, 1).astype('float32')\n",
        "X_test = X_test.reshape(X_test.shape[0], 28, 28, 1).astype('float32')"
      ],
      "execution_count": 0,
      "outputs": []
    },
    {
      "metadata": {
        "id": "KZYSzZqylNvi",
        "colab_type": "text"
      },
      "cell_type": "markdown",
      "source": [
        "Let's normalize the pixel values to be between 0 and 1"
      ]
    },
    {
      "metadata": {
        "id": "E671oE3JlNvi",
        "colab_type": "code",
        "colab": {}
      },
      "cell_type": "code",
      "source": [
        "X_train = X_train / 255 # normalize training data\n",
        "X_test = X_test / 255 # normalize test data"
      ],
      "execution_count": 0,
      "outputs": []
    },
    {
      "metadata": {
        "id": "mLPDkR6JlNvi",
        "colab_type": "text"
      },
      "cell_type": "markdown",
      "source": [
        "Next, let's convert the target variable into binary categories"
      ]
    },
    {
      "metadata": {
        "id": "fAH9v19hlNvi",
        "colab_type": "code",
        "colab": {}
      },
      "cell_type": "code",
      "source": [
        "y_train = to_categorical(y_train)\n",
        "y_test = to_categorical(y_test)\n",
        "\n",
        "num_classes = y_test.shape[1] # number of categories"
      ],
      "execution_count": 0,
      "outputs": []
    },
    {
      "metadata": {
        "id": "cepGXuAelNvi",
        "colab_type": "text"
      },
      "cell_type": "markdown",
      "source": [
        "Next, let's define a function that creates our model. Let's start with one set of convolutional and pooling layers."
      ]
    },
    {
      "metadata": {
        "id": "MtbsbmvxlNvy",
        "colab_type": "code",
        "colab": {}
      },
      "cell_type": "code",
      "source": [
        "def convolutional_model():\n",
        "    \n",
        "    # create model\n",
        "    model = Sequential()\n",
        "    model.add(Conv2D(16, (5, 5), strides=(1, 1), activation='relu', input_shape=(28, 28, 1)))\n",
        "    model.add(MaxPooling2D(pool_size=(2, 2), strides=(2, 2)))\n",
        "    \n",
        "    model.add(Flatten())\n",
        "    model.add(Dense(100, activation='relu'))\n",
        "    model.add(Dense(num_classes, activation='softmax'))\n",
        "    \n",
        "    # compile model\n",
        "    model.compile(optimizer='adam', loss='categorical_crossentropy',  metrics=['accuracy'])\n",
        "    return model"
      ],
      "execution_count": 0,
      "outputs": []
    },
    {
      "metadata": {
        "id": "R9BHCqSTlNvy",
        "colab_type": "text"
      },
      "cell_type": "markdown",
      "source": [
        "Finally, let's call the function to create the model, and then let's train it and evaluate it."
      ]
    },
    {
      "metadata": {
        "id": "2ZzEDLKglNvy",
        "colab_type": "code",
        "colab": {}
      },
      "cell_type": "code",
      "source": [
        "# build the model\n",
        "model = convolutional_model()\n",
        "\n",
        "# fit the model\n",
        "model.fit(X_train, y_train, validation_data=(X_test, y_test), epochs=10, batch_size=200, verbose=2)\n",
        "\n",
        "# evaluate the model\n",
        "scores = model.evaluate(X_test, y_test, verbose=0)\n",
        "print(\"Accuracy: {} \\n Error: {}\".format(scores[1], 100-scores[1]*100))"
      ],
      "execution_count": 0,
      "outputs": []
    },
    {
      "metadata": {
        "id": "rVAai4uclNwB",
        "colab_type": "text"
      },
      "cell_type": "markdown",
      "source": [
        "------------------------------------------"
      ]
    },
    {
      "metadata": {
        "id": "oP7TEkzHlNwE",
        "colab_type": "text"
      },
      "cell_type": "markdown",
      "source": [
        "## Convolutional Layer with two sets of convolutional and pooling layers"
      ]
    },
    {
      "metadata": {
        "id": "-69h_SFYlNwG",
        "colab_type": "text"
      },
      "cell_type": "markdown",
      "source": [
        "Let's redefine our convolutional model so that it has two convolutional and pooling layers instead of just one layer of each."
      ]
    },
    {
      "metadata": {
        "id": "HFN5-EdTlNwH",
        "colab_type": "code",
        "colab": {}
      },
      "cell_type": "code",
      "source": [
        "def convolutional_model():\n",
        "    \n",
        "    # create model\n",
        "    model = Sequential()\n",
        "    model.add(Conv2D(16, (5, 5), activation='relu', input_shape=(28, 28, 1)))\n",
        "    model.add(MaxPooling2D(pool_size=(2, 2), strides=(2, 2)))\n",
        "    \n",
        "    model.add(Conv2D(8, (2, 2), activation='relu'))\n",
        "    model.add(MaxPooling2D(pool_size=(2, 2), strides=(2, 2)))\n",
        "    \n",
        "    model.add(Flatten())\n",
        "    model.add(Dense(100, activation='relu'))\n",
        "    model.add(Dense(num_classes, activation='softmax'))\n",
        "    \n",
        "    # Compile model\n",
        "    model.compile(optimizer='adam', loss='categorical_crossentropy',  metrics=['accuracy'])\n",
        "    return model"
      ],
      "execution_count": 0,
      "outputs": []
    },
    {
      "metadata": {
        "id": "kWPZLhYTlNwK",
        "colab_type": "text"
      },
      "cell_type": "markdown",
      "source": [
        "Now, let's call the function to create our new convolutional neural network, and then let's train it and evaluate it."
      ]
    },
    {
      "metadata": {
        "id": "4BVoKhSTlNwM",
        "colab_type": "code",
        "colab": {}
      },
      "cell_type": "code",
      "source": [
        "# build the model\n",
        "model = convolutional_model()\n",
        "\n",
        "# fit the model\n",
        "model.fit(X_train, y_train, validation_data=(X_test, y_test), epochs=10, batch_size=200, verbose=2)\n",
        "\n",
        "# evaluate the model\n",
        "scores = model.evaluate(X_test, y_test, verbose=0)\n",
        "print(\"Accuracy: {} \\n Error: {}\".format(scores[1], 100-scores[1]*100))"
      ],
      "execution_count": 0,
      "outputs": []
    },
    {
      "metadata": {
        "id": "QuvO2VxqlNwP",
        "colab_type": "text"
      },
      "cell_type": "markdown",
      "source": [
        "### Thank you for completing this lab!\n",
        "\n",
        "This notebook was created by [Alex Aklson](https://www.linkedin.com/in/aklson/). I hope you found this lab interesting and educational. Feel free to contact me if you have any questions!"
      ]
    },
    {
      "metadata": {
        "id": "PEaawM91lNwQ",
        "colab_type": "text"
      },
      "cell_type": "markdown",
      "source": [
        "This notebook is part of a course on **edX** called *Deep Learning Fundamentals with Keras*. If you accessed this notebook outside the course, you can take this course online by clicking [here](http://cocl.us/DL0101EN_edX_Week4_LAB1)."
      ]
    },
    {
      "metadata": {
        "id": "nhizIjiolNwS",
        "colab_type": "text"
      },
      "cell_type": "markdown",
      "source": [
        "<hr>\n",
        "\n",
        "Copyright &copy; 2018 [IBM Developer Skills Network](https://cognitiveclass.ai/?utm_source=bducopyrightlink&utm_medium=dswb&utm_campaign=bdu). This notebook and its source code are released under the terms of the [MIT License](https://bigdatauniversity.com/mit-license/)."
      ]
    }
  ]
}